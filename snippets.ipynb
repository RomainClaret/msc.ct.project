{
 "cells": [
  {
   "cell_type": "markdown",
   "metadata": {},
   "source": [
    "  - openZH: https://raw.githubusercontent.com/openZH/covid_19/master/COVID19_Fallzahlen_CH_total_v2.csv\n",
    "| Field Name                         | Description                                                                          | Format     | Example                                           |\n",
    "|------------------------------------|--------------------------------------------------------------------------------------|------------|---------------------------------------------------|\n",
    "| date                               | Date of notification                                                                 | YYYY-MM-DD | 2021-02-27                                        |\n",
    "| time                               | Time of notification                                                                 | HH:MM      | NaN                                               |\n",
    "| abbreviation_canton_and_fl         | Abbreviation of the reporting canton                                                 | Text       | NE                                                |\n",
    "| ncumul_tested                      | Reported number of tests performed as of date                                        | Number     | NaN                                               |\n",
    "| ncumul_conf                        | Reported number of confirmed cases as of date                                        | Number     | 14096.0                                           |\n",
    "| new_hosp                           | New hospitalisations since last date                                                 | Number     | NaN                                               |\n",
    "| current_hosp                       | Reported number of hospitalised patients on date                                     | Number     | 44.0                                              |\n",
    "| current_icu                        | Reported number of hospitalised patients in ICUs on date                             | Number     | 3.0                                               |\n",
    "| current_vent                       | Reported number of patients requiring invasive ventilation on date                   | Number     | 3.0                                               |\n",
    "| ncumul_released                    | Reported number of patients released from hospitals or reported recovered as of date | Number     | NaN                                               |\n",
    "| ncumul_deceased                    | Reported number of deceased as of date                                               | Number     | 381.0                                             |\n",
    "| source                             | Source of the information                                                            | href       | https://www.ne.ch/autorites/DFS/SCSP/... |\n",
    "| current_isolated                   | Reported number of isolated persons on date                                          | Number     | NaN                                               |\n",
    "| current_quarantined                | Reported number of quarantined persons on date                                       | Number     | NaN                                               |\n",
    "| current_quarantined_riskareatravel | Reported number of quarantined persons arriving in CH on date                        | Number     | NaN                                               |\n",
    "| current_quarantined_total          | Reported number of quarantined persons on date in total                              | Number     | NaN                                               |"
   ]
  },
  {
   "cell_type": "code",
   "execution_count": 1,
   "metadata": {},
   "outputs": [
    {
     "ename": "SyntaxError",
     "evalue": "invalid syntax (<ipython-input-1-754b1229dc76>, line 1)",
     "output_type": "error",
     "traceback": [
      "\u001b[0;36m  File \u001b[0;32m\"<ipython-input-1-754b1229dc76>\"\u001b[0;36m, line \u001b[0;32m1\u001b[0m\n\u001b[0;31m    Date\tAG\tAI\tAR\tBE\tBL\tBS\tFR\tGE\tGL\tGR\tJU\tLU\tNE\tNW\tOW\tSG\tSH\tSO\tSZ\tTG\tTI\tUR\tVD\tVS\tZG\tZH\tCH\tAG_diff\tAG_pc\tAG_diff_pc\tAI_diff\tAI_pc\tAI_diff_pc\tAR_diff\tAR_pc\tAR_diff_pc\tBE_diff\tBE_pc\tBE_diff_pc\tBL_diff\tBL_pc\tBL_diff_pc\tBS_diff\tBS_pc\tBS_diff_pc\tFR_diff\tFR_pc\tFR_diff_pc\tGE_diff\tGE_pc\tGE_diff_pc\tGL_diff\tGL_pc\tGL_diff_pc\tGR_diff\tGR_pc\tGR_diff_pc\tJU_diff\tJU_pc\tJU_diff_pc\tLU_diff\tLU_pc\tLU_diff_pc\tNE_diff\tNE_pc\tNE_diff_pc\tNW_diff\tNW_pc\tNW_diff_pc\tOW_diff\tOW_pc\tOW_diff_pc\tSG_diff\tSG_pc\tSG_diff_pc\tSH_diff\tSH_pc\tSH_diff_pc\tSO_diff\tSO_pc\tSO_diff_pc\tSZ_diff\tSZ_pc\tSZ_diff_pc\tTG_diff\tTG_pc\tTG_diff_pc\tTI_diff\tTI_pc\tTI_diff_pc\tUR_diff\tUR_pc\tUR_diff_pc\tVD_diff\tVD_pc\tVD_diff_pc\tVS_diff\tVS_pc\tVS_diff_pc\tZG_diff\tZG_pc\tZG_diff_pc\tZH_diff\tZH_pc\tZH_diff_pc\tCH_diff\tCH_pc\tCH_diff_pc\u001b[0m\n\u001b[0m        \t ^\u001b[0m\n\u001b[0;31mSyntaxError\u001b[0m\u001b[0;31m:\u001b[0m invalid syntax\n"
     ]
    }
   ],
   "source": [
    "Date\tAG\tAI\tAR\tBE\tBL\tBS\tFR\tGE\tGL\tGR\tJU\tLU\tNE\tNW\tOW\tSG\tSH\tSO\tSZ\tTG\tTI\tUR\tVD\tVS\tZG\tZH\tCH\tAG_diff\tAG_pc\tAG_diff_pc\tAI_diff\tAI_pc\tAI_diff_pc\tAR_diff\tAR_pc\tAR_diff_pc\tBE_diff\tBE_pc\tBE_diff_pc\tBL_diff\tBL_pc\tBL_diff_pc\tBS_diff\tBS_pc\tBS_diff_pc\tFR_diff\tFR_pc\tFR_diff_pc\tGE_diff\tGE_pc\tGE_diff_pc\tGL_diff\tGL_pc\tGL_diff_pc\tGR_diff\tGR_pc\tGR_diff_pc\tJU_diff\tJU_pc\tJU_diff_pc\tLU_diff\tLU_pc\tLU_diff_pc\tNE_diff\tNE_pc\tNE_diff_pc\tNW_diff\tNW_pc\tNW_diff_pc\tOW_diff\tOW_pc\tOW_diff_pc\tSG_diff\tSG_pc\tSG_diff_pc\tSH_diff\tSH_pc\tSH_diff_pc\tSO_diff\tSO_pc\tSO_diff_pc\tSZ_diff\tSZ_pc\tSZ_diff_pc\tTG_diff\tTG_pc\tTG_diff_pc\tTI_diff\tTI_pc\tTI_diff_pc\tUR_diff\tUR_pc\tUR_diff_pc\tVD_diff\tVD_pc\tVD_diff_pc\tVS_diff\tVS_pc\tVS_diff_pc\tZG_diff\tZG_pc\tZG_diff_pc\tZH_diff\tZH_pc\tZH_diff_pc\tCH_diff\tCH_pc\tCH_diff_pc"
   ]
  },
  {
   "cell_type": "markdown",
   "metadata": {},
   "source": [
    "# Build custom dataset\n",
    "- As we have multiple datasets, they will be merged into 1 custom dataset\n",
    "- 6 datasets were gathered (from openZH, foph-covid19-data, and dailyRe-Data), they have 2 features in commun: the Date and the Canton. The merge will based on those 2 features.\n",
    "- As the datasets are coming from different sources, the labeling are not always the same, it must be unified\n",
    "  - As the name of the Canton column is not always the same, it will be unified as \"region\"\n",
    "  - As the name of the Dates column is not always the same, it will be unified as \"date\"\n",
    "  - The region value for Switzerland, will be unified as CH\n",
    "  - Unify the usage of the region column region \n",
    "  - It will be only kept the rows present in all datasets for the 2 features.\n",
    "- Some features are meaningless for our project, so we will drop them: "
   ]
  },
  {
   "cell_type": "code",
   "execution_count": null,
   "metadata": {},
   "outputs": [],
   "source": [
    "last_day_loop = last_day\n",
    "name_date_vacc_previous_loop = name_date_vacc_previous.copy()\n",
    "while last_day_loop >= datetime.datetime.strptime(\"2020-12-23\", '%Y-%m-%d'):\n",
    "    print(name_date_vacc[\"deliveredTotal\"].item(), name_date_vacc_previous_loop[\"deliveredTotal\"].item())\n",
    "    if not name_date_vacc[\"deliveredTotal\"].empty and not name_date_vacc_previous_loop[\"deliveredTotal\"].empty:\n",
    "        self.__delivered_diff = name_date_vacc[\"deliveredTotal\"].item() - name_date_vacc_previous_loop[\"deliveredTotal\"].item()\n",
    "        if self.__delivered_diff != 0.0: break\n",
    "    self.__delivered_diff = 0.0\n",
    "    last_day_loop = last_day_loop-datetime.timedelta(1)\n",
    "    name_date_vacc_previous_loop = df_vacc.loc[(df_vacc[\"canton\"]==self.name) & (df_vacc[\"date\"]==last_day_loop.strftime(\"%Y-%m-%d\"))]\n",
    "            \n",
    "            "
   ]
  },
  {
   "cell_type": "markdown",
   "metadata": {},
   "source": [
    "Also trying to define calculated data (could be completely wrong as I have no expertise)\n",
    "- percentage of collective immunity, based on:\n",
    "    - time estimation of the natural immunity post-sickness (Serological)\n",
    "    - time estimation of vaccines\n",
    "    - estimation of the percentage of success of the vaccines,\n",
    "    - number of positive tests\n",
    "    - number of deaths\n",
    "    - reproductive number"
   ]
  },
  {
   "cell_type": "code",
   "execution_count": 3,
   "metadata": {},
   "outputs": [
    {
     "ename": "ModuleNotFoundError",
     "evalue": "No module named 'mplleaflet'",
     "output_type": "error",
     "traceback": [
      "\u001b[0;31m---------------------------------------------------------------------------\u001b[0m",
      "\u001b[0;31mModuleNotFoundError\u001b[0m                       Traceback (most recent call last)",
      "\u001b[0;32m<ipython-input-3-2c95566af989>\u001b[0m in \u001b[0;36m<module>\u001b[0;34m\u001b[0m\n\u001b[0;32m----> 1\u001b[0;31m \u001b[0;32mimport\u001b[0m \u001b[0mmplleaflet\u001b[0m\u001b[0;34m\u001b[0m\u001b[0;34m\u001b[0m\u001b[0m\n\u001b[0m",
      "\u001b[0;31mModuleNotFoundError\u001b[0m: No module named 'mplleaflet'"
     ]
    }
   ],
   "source": [
    "import mplleaflet"
   ]
  },
  {
   "cell_type": "code",
   "execution_count": null,
   "metadata": {},
   "outputs": [],
   "source": [
    "name_date_vacc = df_vacc.loc[(df_vacc[\"canton\"]==\"CH\") & (df_vacc[\"date\"]==\"2021-02-23\")]\n",
    "#name_date_vacc[\"deliveredTotal\"].item() if not name_date_vacc[\"deliveredTotal\"].empty else 0.0\n",
    "\n",
    "#name_date_vacc[\"deliveredPer100\"].item() if not name_date_vacc[\"deliveredPer100\"].empty else 0.0\n",
    "#name_date_vacc[\"administeredTotal\"].item() if not name_date_vacc[\"administeredTotal\"].empty else 0.0\n",
    "#name_date_vacc[\"administeredPer100\"].item() if not name_date_vacc[\"administeredPer100\"].empty else 0.0\n",
    "#name_date_vacc[\"fullyVaccinatedTotal\"].item() if not name_date_vacc[\"fullyVaccinatedTotal\"].empty else 0.0\n",
    "#name_date_vacc[\"fullyVaccinatedPer100\"].item() if not name_date_vacc[\"fullyVaccinatedPer100\"].empty else 0.0\n"
   ]
  },
  {
   "cell_type": "code",
   "execution_count": null,
   "metadata": {},
   "outputs": [],
   "source": [
    "import datetime\n",
    "\n",
    "date_str = \"2020-12-24\"\n",
    "last_day = (datetime.datetime.strptime(date_str, '%Y-%m-%d')-datetime.timedelta(1))\n",
    "\n",
    "name_date_vacc_previous = df_vacc.loc[(df_vacc[\"canton\"]==\"CH\") & (df_vacc[\"date\"]==last_day.strftime(\"%Y-%m-%d\"))]\n",
    "\n",
    "if not name_date_vacc[\"administeredTotal\"].empty and not name_date_vacc_previous[\"administeredTotal\"].empty:\n",
    "    print(date_str)\n",
    "    print(last_day)\n",
    "    print(name_date_vacc[\"administeredTotal\"].item())\n",
    "    print(name_date_vacc_previous[\"administeredTotal\"].item())\n",
    "    print(name_date_vacc[\"administeredTotal\"].item() - name_date_vacc_previous[\"administeredTotal\"].item())\n",
    "else: \n",
    "    print(0.0)\n",
    "    print(last_day < datetime.datetime.strptime(\"2020-12-23\", '%Y-%m-%d'))"
   ]
  },
  {
   "cell_type": "code",
   "execution_count": null,
   "metadata": {},
   "outputs": [],
   "source": [
    "self_name = \"AG\"\n",
    "name = \"CHE\" if self_name == \"CH\" else self_name\n",
    "name_date_re = df_re.loc[(df_re[\"region\"]==name)& (df_re[\"date\"] == \"2021-02-20\")]\n",
    "\n",
    "print(name_date_re)\n",
    "#name_date_re = df_re.loc[(df_re[\"region\"]==\"CHE\")& (df_re[\"date\"] == \"2021-02-26\")]\n",
    "#if name == \"CHE\": name == \"CH\"\n",
    "#\n",
    "if not name_date_re[\"median_R_mean\"].empty: \n",
    "    print(name_date_re[\"median_R_mean\"].item())"
   ]
  }
 ],
 "metadata": {
  "kernelspec": {
   "display_name": "Python 3",
   "language": "python",
   "name": "python3"
  },
  "language_info": {
   "codemirror_mode": {
    "name": "ipython",
    "version": 3
   },
   "file_extension": ".py",
   "mimetype": "text/x-python",
   "name": "python",
   "nbconvert_exporter": "python",
   "pygments_lexer": "ipython3",
   "version": "3.6.9"
  }
 },
 "nbformat": 4,
 "nbformat_minor": 4
}
